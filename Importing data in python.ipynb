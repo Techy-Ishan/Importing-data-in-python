{
 "cells": [
  {
   "cell_type": "markdown",
   "id": "29f6c681",
   "metadata": {},
   "source": [
    "## Importing csv file into python using pandas:"
   ]
  },
  {
   "cell_type": "markdown",
   "id": "8f38fdb9",
   "metadata": {},
   "source": [
    "First of all ,we import the pandas library.Pandas is usually imported under the 'pd' alias.we use as keyword to create an alias."
   ]
  },
  {
   "cell_type": "code",
   "execution_count": 1,
   "id": "9d3583a0",
   "metadata": {},
   "outputs": [],
   "source": [
    "import pandas as pd\n"
   ]
  },
  {
   "cell_type": "markdown",
   "id": "1540904e",
   "metadata": {},
   "source": [
    "#### Reading a csv file into dataframe:"
   ]
  },
  {
   "cell_type": "markdown",
   "id": "e64e2d6a",
   "metadata": {},
   "source": [
    "CSV (Comma Separated Values) is a simple file format used to store tabular data, such as a spreadsheet or database."
   ]
  },
  {
   "cell_type": "markdown",
   "id": "71cb3ecb",
   "metadata": {},
   "source": [
    "here ,we use pandas read_csv() function to read a comma-separated values (csv) file into DataFrame.\n"
   ]
  },
  {
   "cell_type": "code",
   "execution_count": 2,
   "id": "eed654ee",
   "metadata": {},
   "outputs": [],
   "source": [
    "emp_df = pd.read_csv(\"C:\\\\Users\\\\DELL\\\\Desktop\\\\emp_data.csv\")\n"
   ]
  },
  {
   "cell_type": "code",
   "execution_count": 3,
   "id": "0d710839",
   "metadata": {},
   "outputs": [
    {
     "data": {
      "text/html": [
       "<div>\n",
       "<style scoped>\n",
       "    .dataframe tbody tr th:only-of-type {\n",
       "        vertical-align: middle;\n",
       "    }\n",
       "\n",
       "    .dataframe tbody tr th {\n",
       "        vertical-align: top;\n",
       "    }\n",
       "\n",
       "    .dataframe thead th {\n",
       "        text-align: right;\n",
       "    }\n",
       "</style>\n",
       "<table border=\"1\" class=\"dataframe\">\n",
       "  <thead>\n",
       "    <tr style=\"text-align: right;\">\n",
       "      <th></th>\n",
       "      <th>Emp_id</th>\n",
       "      <th>Name</th>\n",
       "      <th>Add</th>\n",
       "      <th>Role</th>\n",
       "      <th>Email</th>\n",
       "    </tr>\n",
       "  </thead>\n",
       "  <tbody>\n",
       "    <tr>\n",
       "      <th>0</th>\n",
       "      <td>2400</td>\n",
       "      <td>Ishan Sharma</td>\n",
       "      <td>rolls street</td>\n",
       "      <td>Data Scientist</td>\n",
       "      <td>isdev@gmail.com</td>\n",
       "    </tr>\n",
       "    <tr>\n",
       "      <th>1</th>\n",
       "      <td>2401</td>\n",
       "      <td>Gaurav Gupta</td>\n",
       "      <td>royce street</td>\n",
       "      <td>Cloud Developer</td>\n",
       "      <td>ggdev@gmail.com</td>\n",
       "    </tr>\n",
       "    <tr>\n",
       "      <th>2</th>\n",
       "      <td>2402</td>\n",
       "      <td>Ram Sharma</td>\n",
       "      <td>bugatti street</td>\n",
       "      <td>front end developer</td>\n",
       "      <td>rsdev@gmail.com</td>\n",
       "    </tr>\n",
       "    <tr>\n",
       "      <th>3</th>\n",
       "      <td>2403</td>\n",
       "      <td>shyam sharma</td>\n",
       "      <td>ferraro street</td>\n",
       "      <td>full stack</td>\n",
       "      <td>ssdev@gmail.com</td>\n",
       "    </tr>\n",
       "    <tr>\n",
       "      <th>4</th>\n",
       "      <td>2404</td>\n",
       "      <td>rohit singh</td>\n",
       "      <td>lykan street</td>\n",
       "      <td>database engineer</td>\n",
       "      <td>rssdev@gmail.com</td>\n",
       "    </tr>\n",
       "  </tbody>\n",
       "</table>\n",
       "</div>"
      ],
      "text/plain": [
       "   Emp_id          Name             Add                 Role             Email\n",
       "0    2400  Ishan Sharma    rolls street       Data Scientist   isdev@gmail.com\n",
       "1    2401  Gaurav Gupta    royce street      Cloud Developer   ggdev@gmail.com\n",
       "2    2402    Ram Sharma  bugatti street  front end developer   rsdev@gmail.com\n",
       "3    2403  shyam sharma  ferraro street           full stack   ssdev@gmail.com\n",
       "4    2404   rohit singh    lykan street    database engineer  rssdev@gmail.com"
      ]
     },
     "execution_count": 3,
     "metadata": {},
     "output_type": "execute_result"
    }
   ],
   "source": [
    "emp_df.head()"
   ]
  },
  {
   "cell_type": "markdown",
   "id": "9b0cf75a",
   "metadata": {},
   "source": [
    "#### Reading  only specific columns:"
   ]
  },
  {
   "cell_type": "markdown",
   "id": "10f873e8",
   "metadata": {},
   "source": [
    "To read a CSV file with only specific columns call pd.read_csv(file_name, usecols=column_list) .Here file name specifies the name of the csv file and we pass the list of columns name to the usecols parameter to read the csv file with the columns specified in the list."
   ]
  },
  {
   "cell_type": "code",
   "execution_count": 4,
   "id": "8fd40220",
   "metadata": {},
   "outputs": [],
   "source": [
    "cols_list = [\"Name\", \"Role\"]\n",
    "df = pd.read_csv(\"C:\\\\Users\\\\DELL\\\\Desktop\\\\emp_data.csv\", usecols=cols_list)"
   ]
  },
  {
   "cell_type": "code",
   "execution_count": 5,
   "id": "2f206a3d",
   "metadata": {},
   "outputs": [
    {
     "data": {
      "text/html": [
       "<div>\n",
       "<style scoped>\n",
       "    .dataframe tbody tr th:only-of-type {\n",
       "        vertical-align: middle;\n",
       "    }\n",
       "\n",
       "    .dataframe tbody tr th {\n",
       "        vertical-align: top;\n",
       "    }\n",
       "\n",
       "    .dataframe thead th {\n",
       "        text-align: right;\n",
       "    }\n",
       "</style>\n",
       "<table border=\"1\" class=\"dataframe\">\n",
       "  <thead>\n",
       "    <tr style=\"text-align: right;\">\n",
       "      <th></th>\n",
       "      <th>Name</th>\n",
       "      <th>Role</th>\n",
       "    </tr>\n",
       "  </thead>\n",
       "  <tbody>\n",
       "    <tr>\n",
       "      <th>0</th>\n",
       "      <td>Ishan Sharma</td>\n",
       "      <td>Data Scientist</td>\n",
       "    </tr>\n",
       "    <tr>\n",
       "      <th>1</th>\n",
       "      <td>Gaurav Gupta</td>\n",
       "      <td>Cloud Developer</td>\n",
       "    </tr>\n",
       "    <tr>\n",
       "      <th>2</th>\n",
       "      <td>Ram Sharma</td>\n",
       "      <td>front end developer</td>\n",
       "    </tr>\n",
       "    <tr>\n",
       "      <th>3</th>\n",
       "      <td>shyam sharma</td>\n",
       "      <td>full stack</td>\n",
       "    </tr>\n",
       "    <tr>\n",
       "      <th>4</th>\n",
       "      <td>rohit singh</td>\n",
       "      <td>database engineer</td>\n",
       "    </tr>\n",
       "  </tbody>\n",
       "</table>\n",
       "</div>"
      ],
      "text/plain": [
       "           Name                 Role\n",
       "0  Ishan Sharma       Data Scientist\n",
       "1  Gaurav Gupta      Cloud Developer\n",
       "2    Ram Sharma  front end developer\n",
       "3  shyam sharma           full stack\n",
       "4   rohit singh    database engineer"
      ]
     },
     "execution_count": 5,
     "metadata": {},
     "output_type": "execute_result"
    }
   ],
   "source": [
    "df.head()"
   ]
  },
  {
   "cell_type": "markdown",
   "id": "8cf5557a",
   "metadata": {},
   "source": [
    "## Importing excel file:"
   ]
  },
  {
   "cell_type": "markdown",
   "id": "152b6197",
   "metadata": {},
   "source": [
    "An excel file has a ‘.xlsx’ format. For importing an Excel file into Python using Pandas we have to use pandas.read_excel() function."
   ]
  },
  {
   "cell_type": "code",
   "execution_count": 6,
   "id": "ea805ee9",
   "metadata": {},
   "outputs": [
    {
     "data": {
      "text/html": [
       "<div>\n",
       "<style scoped>\n",
       "    .dataframe tbody tr th:only-of-type {\n",
       "        vertical-align: middle;\n",
       "    }\n",
       "\n",
       "    .dataframe tbody tr th {\n",
       "        vertical-align: top;\n",
       "    }\n",
       "\n",
       "    .dataframe thead th {\n",
       "        text-align: right;\n",
       "    }\n",
       "</style>\n",
       "<table border=\"1\" class=\"dataframe\">\n",
       "  <thead>\n",
       "    <tr style=\"text-align: right;\">\n",
       "      <th></th>\n",
       "      <th>Country</th>\n",
       "      <th>Year</th>\n",
       "      <th>No_of_medals</th>\n",
       "      <th>Games played</th>\n",
       "    </tr>\n",
       "  </thead>\n",
       "  <tbody>\n",
       "    <tr>\n",
       "      <th>0</th>\n",
       "      <td>India</td>\n",
       "      <td>2015</td>\n",
       "      <td>12</td>\n",
       "      <td>24</td>\n",
       "    </tr>\n",
       "    <tr>\n",
       "      <th>1</th>\n",
       "      <td>China</td>\n",
       "      <td>2016</td>\n",
       "      <td>18</td>\n",
       "      <td>20</td>\n",
       "    </tr>\n",
       "    <tr>\n",
       "      <th>2</th>\n",
       "      <td>America</td>\n",
       "      <td>2015</td>\n",
       "      <td>17</td>\n",
       "      <td>28</td>\n",
       "    </tr>\n",
       "    <tr>\n",
       "      <th>3</th>\n",
       "      <td>Brazil</td>\n",
       "      <td>2016</td>\n",
       "      <td>6</td>\n",
       "      <td>14</td>\n",
       "    </tr>\n",
       "    <tr>\n",
       "      <th>4</th>\n",
       "      <td>Japan</td>\n",
       "      <td>2015</td>\n",
       "      <td>15</td>\n",
       "      <td>32</td>\n",
       "    </tr>\n",
       "  </tbody>\n",
       "</table>\n",
       "</div>"
      ],
      "text/plain": [
       "   Country  Year  No_of_medals  Games played\n",
       "0    India  2015            12            24\n",
       "1    China  2016            18            20\n",
       "2  America  2015            17            28\n",
       "3   Brazil  2016             6            14\n",
       "4    Japan  2015            15            32"
      ]
     },
     "execution_count": 6,
     "metadata": {},
     "output_type": "execute_result"
    }
   ],
   "source": [
    "excel_df = pd.read_excel(\"C:\\\\Users\\\\DELL\\\\Desktop\\\\gamesbook.xlsx\")\n",
    "excel_df.head()"
   ]
  },
  {
   "cell_type": "markdown",
   "id": "19cf183e",
   "metadata": {},
   "source": [
    "### Reading particular columns:"
   ]
  },
  {
   "cell_type": "code",
   "execution_count": 7,
   "id": "bbacfb3d",
   "metadata": {},
   "outputs": [
    {
     "data": {
      "text/html": [
       "<div>\n",
       "<style scoped>\n",
       "    .dataframe tbody tr th:only-of-type {\n",
       "        vertical-align: middle;\n",
       "    }\n",
       "\n",
       "    .dataframe tbody tr th {\n",
       "        vertical-align: top;\n",
       "    }\n",
       "\n",
       "    .dataframe thead th {\n",
       "        text-align: right;\n",
       "    }\n",
       "</style>\n",
       "<table border=\"1\" class=\"dataframe\">\n",
       "  <thead>\n",
       "    <tr style=\"text-align: right;\">\n",
       "      <th></th>\n",
       "      <th>Country</th>\n",
       "      <th>No_of_medals</th>\n",
       "      <th>Games played</th>\n",
       "    </tr>\n",
       "  </thead>\n",
       "  <tbody>\n",
       "    <tr>\n",
       "      <th>0</th>\n",
       "      <td>India</td>\n",
       "      <td>12</td>\n",
       "      <td>24</td>\n",
       "    </tr>\n",
       "    <tr>\n",
       "      <th>1</th>\n",
       "      <td>China</td>\n",
       "      <td>18</td>\n",
       "      <td>20</td>\n",
       "    </tr>\n",
       "    <tr>\n",
       "      <th>2</th>\n",
       "      <td>America</td>\n",
       "      <td>17</td>\n",
       "      <td>28</td>\n",
       "    </tr>\n",
       "    <tr>\n",
       "      <th>3</th>\n",
       "      <td>Brazil</td>\n",
       "      <td>6</td>\n",
       "      <td>14</td>\n",
       "    </tr>\n",
       "    <tr>\n",
       "      <th>4</th>\n",
       "      <td>Japan</td>\n",
       "      <td>15</td>\n",
       "      <td>32</td>\n",
       "    </tr>\n",
       "  </tbody>\n",
       "</table>\n",
       "</div>"
      ],
      "text/plain": [
       "   Country  No_of_medals  Games played\n",
       "0    India            12            24\n",
       "1    China            18            20\n",
       "2  America            17            28\n",
       "3   Brazil             6            14\n",
       "4    Japan            15            32"
      ]
     },
     "execution_count": 7,
     "metadata": {},
     "output_type": "execute_result"
    }
   ],
   "source": [
    "cols = [0, 2, 3]\n",
    "df1 = pd.read_excel(\"C:\\\\Users\\\\DELL\\\\Desktop\\\\gamesbook.xlsx\", usecols=cols)\n",
    "df1.head()"
   ]
  },
  {
   "cell_type": "markdown",
   "id": "70481edd",
   "metadata": {},
   "source": [
    "###  selecting particular column as an index column:"
   ]
  },
  {
   "cell_type": "markdown",
   "id": "9564ce30",
   "metadata": {},
   "source": [
    "Here we can specify a specific column as the indes column of the dataframe by passing the index no of the column to the index_col parameter while reading the excel file."
   ]
  },
  {
   "cell_type": "code",
   "execution_count": 8,
   "id": "b69965a1",
   "metadata": {},
   "outputs": [
    {
     "data": {
      "text/html": [
       "<div>\n",
       "<style scoped>\n",
       "    .dataframe tbody tr th:only-of-type {\n",
       "        vertical-align: middle;\n",
       "    }\n",
       "\n",
       "    .dataframe tbody tr th {\n",
       "        vertical-align: top;\n",
       "    }\n",
       "\n",
       "    .dataframe thead th {\n",
       "        text-align: right;\n",
       "    }\n",
       "</style>\n",
       "<table border=\"1\" class=\"dataframe\">\n",
       "  <thead>\n",
       "    <tr style=\"text-align: right;\">\n",
       "      <th></th>\n",
       "      <th>Year</th>\n",
       "      <th>No_of_medals</th>\n",
       "      <th>Games played</th>\n",
       "    </tr>\n",
       "    <tr>\n",
       "      <th>Country</th>\n",
       "      <th></th>\n",
       "      <th></th>\n",
       "      <th></th>\n",
       "    </tr>\n",
       "  </thead>\n",
       "  <tbody>\n",
       "    <tr>\n",
       "      <th>India</th>\n",
       "      <td>2015</td>\n",
       "      <td>12</td>\n",
       "      <td>24</td>\n",
       "    </tr>\n",
       "    <tr>\n",
       "      <th>China</th>\n",
       "      <td>2016</td>\n",
       "      <td>18</td>\n",
       "      <td>20</td>\n",
       "    </tr>\n",
       "    <tr>\n",
       "      <th>America</th>\n",
       "      <td>2015</td>\n",
       "      <td>17</td>\n",
       "      <td>28</td>\n",
       "    </tr>\n",
       "    <tr>\n",
       "      <th>Brazil</th>\n",
       "      <td>2016</td>\n",
       "      <td>6</td>\n",
       "      <td>14</td>\n",
       "    </tr>\n",
       "    <tr>\n",
       "      <th>Japan</th>\n",
       "      <td>2015</td>\n",
       "      <td>15</td>\n",
       "      <td>32</td>\n",
       "    </tr>\n",
       "  </tbody>\n",
       "</table>\n",
       "</div>"
      ],
      "text/plain": [
       "         Year  No_of_medals  Games played\n",
       "Country                                  \n",
       "India    2015            12            24\n",
       "China    2016            18            20\n",
       "America  2015            17            28\n",
       "Brazil   2016             6            14\n",
       "Japan    2015            15            32"
      ]
     },
     "execution_count": 8,
     "metadata": {},
     "output_type": "execute_result"
    }
   ],
   "source": [
    "df2 = pd.read_excel(\"C:\\\\Users\\\\DELL\\\\Desktop\\\\gamesbook.xlsx\",\n",
    "                   index_col = 0)  \n",
    "  \n",
    "df2.head()"
   ]
  },
  {
   "cell_type": "markdown",
   "id": "88227ef2",
   "metadata": {},
   "source": [
    "#### Skipping rows  while reading a excel file to Dataframe"
   ]
  },
  {
   "cell_type": "markdown",
   "id": "ea2c3063",
   "metadata": {},
   "source": [
    "if we assign N number to the skiprows parameter .Then the first N rows are skipped while reading the excel file."
   ]
  },
  {
   "cell_type": "code",
   "execution_count": 9,
   "id": "af14e96c",
   "metadata": {},
   "outputs": [
    {
     "data": {
      "text/html": [
       "<div>\n",
       "<style scoped>\n",
       "    .dataframe tbody tr th:only-of-type {\n",
       "        vertical-align: middle;\n",
       "    }\n",
       "\n",
       "    .dataframe tbody tr th {\n",
       "        vertical-align: top;\n",
       "    }\n",
       "\n",
       "    .dataframe thead th {\n",
       "        text-align: right;\n",
       "    }\n",
       "</style>\n",
       "<table border=\"1\" class=\"dataframe\">\n",
       "  <thead>\n",
       "    <tr style=\"text-align: right;\">\n",
       "      <th></th>\n",
       "      <th>China</th>\n",
       "      <th>2016</th>\n",
       "      <th>18</th>\n",
       "      <th>20</th>\n",
       "    </tr>\n",
       "  </thead>\n",
       "  <tbody>\n",
       "    <tr>\n",
       "      <th>0</th>\n",
       "      <td>America</td>\n",
       "      <td>2015</td>\n",
       "      <td>17</td>\n",
       "      <td>28</td>\n",
       "    </tr>\n",
       "    <tr>\n",
       "      <th>1</th>\n",
       "      <td>Brazil</td>\n",
       "      <td>2016</td>\n",
       "      <td>6</td>\n",
       "      <td>14</td>\n",
       "    </tr>\n",
       "    <tr>\n",
       "      <th>2</th>\n",
       "      <td>Japan</td>\n",
       "      <td>2015</td>\n",
       "      <td>15</td>\n",
       "      <td>32</td>\n",
       "    </tr>\n",
       "    <tr>\n",
       "      <th>3</th>\n",
       "      <td>England</td>\n",
       "      <td>2016</td>\n",
       "      <td>8</td>\n",
       "      <td>17</td>\n",
       "    </tr>\n",
       "    <tr>\n",
       "      <th>4</th>\n",
       "      <td>India</td>\n",
       "      <td>2016</td>\n",
       "      <td>14</td>\n",
       "      <td>23</td>\n",
       "    </tr>\n",
       "  </tbody>\n",
       "</table>\n",
       "</div>"
      ],
      "text/plain": [
       "     China  2016  18  20\n",
       "0  America  2015  17  28\n",
       "1   Brazil  2016   6  14\n",
       "2    Japan  2015  15  32\n",
       "3  England  2016   8  17\n",
       "4    India  2016  14  23"
      ]
     },
     "execution_count": 9,
     "metadata": {},
     "output_type": "execute_result"
    }
   ],
   "source": [
    "df3 = pd.read_excel(\"C:\\\\Users\\\\DELL\\\\Desktop\\\\gamesbook.xlsx\", skiprows=2)\n",
    "df3.head()"
   ]
  },
  {
   "cell_type": "markdown",
   "id": "ab32311e",
   "metadata": {},
   "source": [
    "## Importing text file:"
   ]
  },
  {
   "cell_type": "markdown",
   "id": "c3e0fb19",
   "metadata": {},
   "source": [
    "#### opening a text file:"
   ]
  },
  {
   "cell_type": "markdown",
   "id": "92109c80",
   "metadata": {},
   "source": [
    "open(path_to_file, mode). the open function has many parameter .here we are studying about the major two .The path_to_file specifies the file location and the mode specifies the mode in which we wish to open the file.\n",
    "\n",
    " we append 'r' to \tOpen a text file for reading text .\n",
    "'w'\tto Open a text file for writing text.\n",
    "'a' to \tOpen a text file for appending text."
   ]
  },
  {
   "cell_type": "markdown",
   "id": "37010282",
   "metadata": {},
   "source": [
    "To open the file, use the built-in open() function.\n",
    "\n",
    "The open() function returns a file object, which has a read() method for reading the content of the file:"
   ]
  },
  {
   "cell_type": "code",
   "execution_count": 10,
   "id": "9d1c50ca",
   "metadata": {},
   "outputs": [
    {
     "name": "stdout",
     "output_type": "stream",
     "text": [
      "Today is a good day.\n",
      "Tomorrow will be better.\n",
      "In future I will make up the best day.\n"
     ]
    }
   ],
   "source": [
    "file1 = open(\"C:\\\\Users\\\\DELL\\\\Desktop\\\\dt.txt\",\"r\")\n",
    "print(file1.read())"
   ]
  },
  {
   "cell_type": "markdown",
   "id": "c917bbae",
   "metadata": {},
   "source": [
    "#### Reading from  file:"
   ]
  },
  {
   "cell_type": "markdown",
   "id": "b6e2cd3c",
   "metadata": {},
   "source": [
    "1. read() – read all text from a file into a string. \n",
    "2.readline() – read the text file line by line and return all the lines as strings.\n",
    "3.readlines() – read all the lines of the text file and return them as a list of strings.\n"
   ]
  },
  {
   "cell_type": "code",
   "execution_count": 11,
   "id": "db91a820",
   "metadata": {},
   "outputs": [
    {
     "name": "stdout",
     "output_type": "stream",
     "text": [
      "Today is a good day.\n",
      "Tomorrow will be better.\n",
      "In future I will make up the best day.\n"
     ]
    }
   ],
   "source": [
    "file2 = open(\"C:\\\\Users\\\\DELL\\\\Desktop\\\\dt.txt\",\"r\")\n",
    "print(file2.read())"
   ]
  },
  {
   "cell_type": "code",
   "execution_count": 12,
   "id": "438316d4",
   "metadata": {},
   "outputs": [
    {
     "name": "stdout",
     "output_type": "stream",
     "text": [
      "Today is a good day.\n",
      "\n"
     ]
    }
   ],
   "source": [
    "file3 = open(\"C:\\\\Users\\\\DELL\\\\Desktop\\\\dt.txt\",\"r\")\n",
    "print(file3.readline())\n"
   ]
  },
  {
   "cell_type": "code",
   "execution_count": 13,
   "id": "0089fd74",
   "metadata": {},
   "outputs": [
    {
     "name": "stdout",
     "output_type": "stream",
     "text": [
      "['Today is a good day.\\n', 'Tomorrow will be better.\\n', 'In future I will make up the best day.']\n"
     ]
    }
   ],
   "source": [
    "file4 = open(\"C:\\\\Users\\\\DELL\\\\Desktop\\\\dt.txt\",\"r\")\n",
    "print(file4.readlines())"
   ]
  },
  {
   "cell_type": "markdown",
   "id": "bffb5215",
   "metadata": {},
   "source": [
    "### closing the file:\n"
   ]
  },
  {
   "cell_type": "markdown",
   "id": "082a35ac",
   "metadata": {},
   "source": [
    "The file that you open will remain open until you close it using the close() method.close()method closes the file and frees the memory space acquired by that file."
   ]
  },
  {
   "cell_type": "code",
   "execution_count": 14,
   "id": "6582d3f1",
   "metadata": {},
   "outputs": [
    {
     "ename": "ValueError",
     "evalue": "I/O operation on closed file.",
     "output_type": "error",
     "traceback": [
      "\u001b[1;31m---------------------------------------------------------------------------\u001b[0m",
      "\u001b[1;31mValueError\u001b[0m                                Traceback (most recent call last)",
      "\u001b[1;32m~\\AppData\\Local\\Temp/ipykernel_15200/470587771.py\u001b[0m in \u001b[0;36m<module>\u001b[1;34m\u001b[0m\n\u001b[0;32m      1\u001b[0m \u001b[0mfile1\u001b[0m\u001b[1;33m.\u001b[0m\u001b[0mclose\u001b[0m\u001b[1;33m(\u001b[0m\u001b[1;33m)\u001b[0m\u001b[1;33m\u001b[0m\u001b[1;33m\u001b[0m\u001b[0m\n\u001b[1;32m----> 2\u001b[1;33m \u001b[0mprint\u001b[0m\u001b[1;33m(\u001b[0m\u001b[0mfile1\u001b[0m\u001b[1;33m.\u001b[0m\u001b[0mread\u001b[0m\u001b[1;33m(\u001b[0m\u001b[1;33m)\u001b[0m\u001b[1;33m)\u001b[0m\u001b[1;33m\u001b[0m\u001b[1;33m\u001b[0m\u001b[0m\n\u001b[0m",
      "\u001b[1;31mValueError\u001b[0m: I/O operation on closed file."
     ]
    }
   ],
   "source": [
    "file1.close()\n",
    "print(file1.read())"
   ]
  },
  {
   "cell_type": "markdown",
   "id": "8c9449dd",
   "metadata": {},
   "source": [
    "### Using context manager 'with' to import the file:"
   ]
  },
  {
   "cell_type": "markdown",
   "id": "9864e965",
   "metadata": {},
   "source": [
    "To close the file automatically without calling the close() method, we make use of the context manager 'with'."
   ]
  },
  {
   "cell_type": "code",
   "execution_count": null,
   "id": "fec50f6e",
   "metadata": {},
   "outputs": [],
   "source": [
    "with open(\"C:\\\\Users\\\\DELL\\\\Desktop\\\\dt.txt\") as file:\n",
    "    print(file.readline())"
   ]
  },
  {
   "cell_type": "markdown",
   "id": "e94cc4fd",
   "metadata": {},
   "source": [
    "## Importing flat file from web:\n"
   ]
  },
  {
   "cell_type": "markdown",
   "id": "f84dcfdc",
   "metadata": {},
   "source": [
    "Here we are importing file from the web.The file we are importing is forestfires.csv. The url for the file is \n",
    "https://archive.ics.uci.edu/ml/machine-learning-databases/forest-fires/forestfires.csv"
   ]
  },
  {
   "cell_type": "markdown",
   "id": "8c6169e9",
   "metadata": {},
   "source": [
    "Import the function urlretrieve from the urllib.request subpackage. "
   ]
  },
  {
   "cell_type": "code",
   "execution_count": 16,
   "id": "3cd1dc47",
   "metadata": {},
   "outputs": [],
   "source": [
    "from urllib.request import urlretrieve\n"
   ]
  },
  {
   "cell_type": "markdown",
   "id": "5f854b2f",
   "metadata": {},
   "source": [
    "Assigning  the url of the file  to a variable."
   ]
  },
  {
   "cell_type": "code",
   "execution_count": 17,
   "id": "c7dcab93",
   "metadata": {},
   "outputs": [],
   "source": [
    "url = 'https://archive.ics.uci.edu/ml/machine-learning-databases/forest-fires/forestfires.csv'\n"
   ]
  },
  {
   "cell_type": "markdown",
   "id": "67d2bc03",
   "metadata": {},
   "source": [
    "Using  the function urlretrieve to save this file locally. Pass two arguments to the function - the url of the website (which has been assigned to the variable ‘url’) and the name you want the file to be saved as."
   ]
  },
  {
   "cell_type": "code",
   "execution_count": 18,
   "id": "d73c38a8",
   "metadata": {},
   "outputs": [
    {
     "data": {
      "text/html": [
       "<div>\n",
       "<style scoped>\n",
       "    .dataframe tbody tr th:only-of-type {\n",
       "        vertical-align: middle;\n",
       "    }\n",
       "\n",
       "    .dataframe tbody tr th {\n",
       "        vertical-align: top;\n",
       "    }\n",
       "\n",
       "    .dataframe thead th {\n",
       "        text-align: right;\n",
       "    }\n",
       "</style>\n",
       "<table border=\"1\" class=\"dataframe\">\n",
       "  <thead>\n",
       "    <tr style=\"text-align: right;\">\n",
       "      <th></th>\n",
       "      <th>X</th>\n",
       "      <th>Y</th>\n",
       "      <th>month</th>\n",
       "      <th>day</th>\n",
       "      <th>FFMC</th>\n",
       "      <th>DMC</th>\n",
       "      <th>DC</th>\n",
       "      <th>ISI</th>\n",
       "      <th>temp</th>\n",
       "      <th>RH</th>\n",
       "      <th>wind</th>\n",
       "      <th>rain</th>\n",
       "      <th>area</th>\n",
       "    </tr>\n",
       "  </thead>\n",
       "  <tbody>\n",
       "    <tr>\n",
       "      <th>0</th>\n",
       "      <td>7</td>\n",
       "      <td>5</td>\n",
       "      <td>mar</td>\n",
       "      <td>fri</td>\n",
       "      <td>86.2</td>\n",
       "      <td>26.2</td>\n",
       "      <td>94.3</td>\n",
       "      <td>5.1</td>\n",
       "      <td>8.2</td>\n",
       "      <td>51</td>\n",
       "      <td>6.7</td>\n",
       "      <td>0.0</td>\n",
       "      <td>0.0</td>\n",
       "    </tr>\n",
       "    <tr>\n",
       "      <th>1</th>\n",
       "      <td>7</td>\n",
       "      <td>4</td>\n",
       "      <td>oct</td>\n",
       "      <td>tue</td>\n",
       "      <td>90.6</td>\n",
       "      <td>35.4</td>\n",
       "      <td>669.1</td>\n",
       "      <td>6.7</td>\n",
       "      <td>18.0</td>\n",
       "      <td>33</td>\n",
       "      <td>0.9</td>\n",
       "      <td>0.0</td>\n",
       "      <td>0.0</td>\n",
       "    </tr>\n",
       "    <tr>\n",
       "      <th>2</th>\n",
       "      <td>7</td>\n",
       "      <td>4</td>\n",
       "      <td>oct</td>\n",
       "      <td>sat</td>\n",
       "      <td>90.6</td>\n",
       "      <td>43.7</td>\n",
       "      <td>686.9</td>\n",
       "      <td>6.7</td>\n",
       "      <td>14.6</td>\n",
       "      <td>33</td>\n",
       "      <td>1.3</td>\n",
       "      <td>0.0</td>\n",
       "      <td>0.0</td>\n",
       "    </tr>\n",
       "    <tr>\n",
       "      <th>3</th>\n",
       "      <td>8</td>\n",
       "      <td>6</td>\n",
       "      <td>mar</td>\n",
       "      <td>fri</td>\n",
       "      <td>91.7</td>\n",
       "      <td>33.3</td>\n",
       "      <td>77.5</td>\n",
       "      <td>9.0</td>\n",
       "      <td>8.3</td>\n",
       "      <td>97</td>\n",
       "      <td>4.0</td>\n",
       "      <td>0.2</td>\n",
       "      <td>0.0</td>\n",
       "    </tr>\n",
       "    <tr>\n",
       "      <th>4</th>\n",
       "      <td>8</td>\n",
       "      <td>6</td>\n",
       "      <td>mar</td>\n",
       "      <td>sun</td>\n",
       "      <td>89.3</td>\n",
       "      <td>51.3</td>\n",
       "      <td>102.2</td>\n",
       "      <td>9.6</td>\n",
       "      <td>11.4</td>\n",
       "      <td>99</td>\n",
       "      <td>1.8</td>\n",
       "      <td>0.0</td>\n",
       "      <td>0.0</td>\n",
       "    </tr>\n",
       "  </tbody>\n",
       "</table>\n",
       "</div>"
      ],
      "text/plain": [
       "   X  Y month  day  FFMC   DMC     DC  ISI  temp  RH  wind  rain  area\n",
       "0  7  5   mar  fri  86.2  26.2   94.3  5.1   8.2  51   6.7   0.0   0.0\n",
       "1  7  4   oct  tue  90.6  35.4  669.1  6.7  18.0  33   0.9   0.0   0.0\n",
       "2  7  4   oct  sat  90.6  43.7  686.9  6.7  14.6  33   1.3   0.0   0.0\n",
       "3  8  6   mar  fri  91.7  33.3   77.5  9.0   8.3  97   4.0   0.2   0.0\n",
       "4  8  6   mar  sun  89.3  51.3  102.2  9.6  11.4  99   1.8   0.0   0.0"
      ]
     },
     "execution_count": 18,
     "metadata": {},
     "output_type": "execute_result"
    }
   ],
   "source": [
    "urlretrieve(url, 'wildfire.csv')\n",
    "\n",
    "fire_df= pd.read_csv('wildfire.csv')\n",
    "fire_df.head()"
   ]
  },
  {
   "cell_type": "markdown",
   "id": "f1599b4a",
   "metadata": {},
   "source": [
    "## Web Scrapping with  python:"
   ]
  },
  {
   "cell_type": "code",
   "execution_count": 23,
   "id": "1276b9b0",
   "metadata": {},
   "outputs": [],
   "source": [
    "import requests\n",
    "from bs4 import BeautifulSoup\n",
    "\n",
    "# specifying the url\n",
    "url ='https://www.datainsightonline.com/'\n",
    "\n",
    "# Send a HTTP request to the specified URL\n",
    "r = requests.get(url)\n",
    "# Parsing the HTML content\n",
    "soup = BeautifulSoup(r.content, 'html5lib')\n",
    "\n",
    "#print(soup.prettify())\n",
    "\n"
   ]
  },
  {
   "cell_type": "code",
   "execution_count": 20,
   "id": "5d9bfe45",
   "metadata": {},
   "outputs": [
    {
     "name": "stdout",
     "output_type": "stream",
     "text": [
      "<title>Data Science for Everyone | Data Insight</title>\n"
     ]
    }
   ],
   "source": [
    "print(soup.title)"
   ]
  },
  {
   "cell_type": "code",
   "execution_count": 21,
   "id": "36e70d46",
   "metadata": {},
   "outputs": [
    {
     "name": "stdout",
     "output_type": "stream",
     "text": [
      "<title>\n",
      " Data Science for Everyone | Data Insight\n",
      "</title>\n",
      "\n"
     ]
    }
   ],
   "source": [
    "print(soup.title.prettify())"
   ]
  },
  {
   "cell_type": "code",
   "execution_count": 24,
   "id": "6ace43db",
   "metadata": {},
   "outputs": [
    {
     "name": "stdout",
     "output_type": "stream",
     "text": [
      "Data Science for Everyone | Data Insight\n"
     ]
    }
   ],
   "source": [
    "print(soup.title.get_text())"
   ]
  },
  {
   "cell_type": "code",
   "execution_count": null,
   "id": "47086187",
   "metadata": {},
   "outputs": [],
   "source": []
  }
 ],
 "metadata": {
  "kernelspec": {
   "display_name": "Python 3 (ipykernel)",
   "language": "python",
   "name": "python3"
  },
  "language_info": {
   "codemirror_mode": {
    "name": "ipython",
    "version": 3
   },
   "file_extension": ".py",
   "mimetype": "text/x-python",
   "name": "python",
   "nbconvert_exporter": "python",
   "pygments_lexer": "ipython3",
   "version": "3.9.5"
  }
 },
 "nbformat": 4,
 "nbformat_minor": 5
}
